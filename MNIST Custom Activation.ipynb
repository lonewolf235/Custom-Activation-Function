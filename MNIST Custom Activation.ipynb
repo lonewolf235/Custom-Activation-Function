{
 "cells": [
  {
   "attachments": {},
   "cell_type": "markdown",
   "id": "d9d303f9",
   "metadata": {},
   "source": [
    "# Import necessary libraries"
   ]
  },
  {
   "cell_type": "code",
   "execution_count": 1,
   "id": "e8798044",
   "metadata": {},
   "outputs": [],
   "source": [
    "import numpy as np # linear algebra\n",
    "import tensorflow as tf\n",
    "from tensorflow import keras\n",
    "import matplotlib.pyplot as plt\n",
    "%matplotlib inline\n",
    "\n",
    "from keras.models import Sequential\n",
    "from keras.layers import Dense , Activation, Dropout\n",
    "from keras.optimizers import Adam ,RMSprop\n",
    "from keras import  backend as K"
   ]
  },
  {
   "cell_type": "markdown",
   "id": "31574af1",
   "metadata": {},
   "source": [
    "### MNIST Dataset import"
   ]
  },
  {
   "cell_type": "code",
   "execution_count": 2,
   "id": "9140f763",
   "metadata": {},
   "outputs": [],
   "source": [
    "(X_train, y_train) , (X_test, y_test) = keras.datasets.mnist.load_data()"
   ]
  },
  {
   "cell_type": "code",
   "execution_count": 3,
   "id": "86433623",
   "metadata": {},
   "outputs": [],
   "source": [
    "X_train, X_test = X_train / 255.0, X_test / 255.0"
   ]
  },
  {
   "cell_type": "code",
   "execution_count": 4,
   "id": "67d06d1e",
   "metadata": {},
   "outputs": [
    {
     "data": {
      "text/plain": [
       "<matplotlib.image.AxesImage at 0x221257a4e50>"
      ]
     },
     "execution_count": 4,
     "metadata": {},
     "output_type": "execute_result"
    },
    {
     "data": {
      "image/png": "[encoded data removed]",
      "text/plain": [
       "<Figure size 288x288 with 1 Axes>"
      ]
     },
     "metadata": {
      "needs_background": "light"
     },
     "output_type": "display_data"
    }
   ],
   "source": [
    "plt.matshow(X_train[1])"
   ]
  },
  {
   "cell_type": "markdown",
   "id": "a685cc8a",
   "metadata": {},
   "source": [
    "# Custom Activation Function\n",
    "\n",
    "The Activation Function can be modified based on two things:\n",
    "\n",
    "i) Its classification type\n",
    "ii) No. of Negative values present in dataset\n",
    "iii) Its differentiabilty around 0.\n",
    "\n",
    "And using these conditions I have created a modified activation function which works as a leaky ReLU first and then utilise that updated values in an ELU function.\n",
    "\n",
    "Thus the issue of negative value of ReLU is resolved by ELU and then it is wrapped upon Leaky ReLU which fix the “dying ReLU” problem by having a small negative slope (of 0.01,0.05 or so)."
   ]
  },
  {
   "cell_type": "code",
   "execution_count": 5,
   "id": "c06490ae",
   "metadata": {},
   "outputs": [
    {
     "name": "stdout",
     "output_type": "stream",
     "text": [
      "10\n"
     ]
    }
   ],
   "source": [
    "num_labels = len(np.unique(y_train))\n",
    "print(num_labels)"
   ]
  },
  {
   "cell_type": "code",
   "execution_count": 6,
   "id": "a2dd714d",
   "metadata": {},
   "outputs": [],
   "source": [
    "def multi_af(x):\n",
    "    return K.maximum(0.05*x,x) # A modified version of RelU which performs good for negative as well as 0-1 values.\n",
    "# If classification is binary then bin_af function else multi_af function is called\n",
    "def bin_af(x):\n",
    "    return 1 / (1 + math.exp(-x))\n",
    "dropout=0.3"
   ]
  },
  {
   "cell_type": "markdown",
   "id": "fcdb9363",
   "metadata": {},
   "source": [
    "### We can also apply a condition that if number of values less than 0 are more than 50% , then do not go for ReLu, else you can perform ReLu to reduce computation time."
   ]
  },
  {
   "cell_type": "markdown",
   "id": "a3443d7e",
   "metadata": {},
   "source": [
    "## Model Architecture"
   ]
  },
  {
   "cell_type": "code",
   "execution_count": 7,
   "id": "e3ef8a30",
   "metadata": {},
   "outputs": [],
   "source": [
    "if num_labels>2:\n",
    "    model = tf.keras.models.Sequential([\n",
    "    tf.keras.layers.Flatten(input_shape=(28, 28)),\n",
    "    tf.keras.layers.Dense(256),\n",
    "    tf.keras.layers.Lambda(multi_af),\n",
    "    tf.keras.layers.Dropout(dropout, input_shape=(2,)),\n",
    "    tf.keras.layers.ELU(alpha=1.0),\n",
    "    tf.keras.layers.Dense(num_labels, activation='softmax')\n",
    "])\n",
    "else:\n",
    "     model = tf.keras.models.Sequential([\n",
    "     tf.keras.layers.Flatten(input_shape=(28, 28)),\n",
    "     tf.keras.layers.Dense(256),\n",
    "     tf.keras.layers.Lambda(multi_af),\n",
    "     tf.keras.layers.Dropout(dropout, input_shape=(2,)),\n",
    "     tf.keras.layers.ELU(alpha=1.0),\n",
    "     tf.keras.layers.Dense(num_labels, activation='sigmoid')\n",
    "])\n",
    "    \n"
   ]
  },
  {
   "cell_type": "code",
   "execution_count": 8,
   "id": "09035ad7",
   "metadata": {},
   "outputs": [
    {
     "name": "stdout",
     "output_type": "stream",
     "text": [
      "Model: \"sequential\"\n",
      "_________________________________________________________________\n",
      " Layer (type)                Output Shape              Param #   \n",
      "=================================================================\n",
      " flatten (Flatten)           (None, 784)               0         \n",
      "                                                                 \n",
      " dense (Dense)               (None, 256)               200960    \n",
      "                                                                 \n",
      " lambda (Lambda)             (None, 256)               0         \n",
      "                                                                 \n",
      " dropout (Dropout)           (None, 256)               0         \n",
      "                                                                 \n",
      " elu (ELU)                   (None, 256)               0         \n",
      "                                                                 \n",
      " dense_1 (Dense)             (None, 10)                2570      \n",
      "                                                                 \n",
      "=================================================================\n",
      "Total params: 203,530\n",
      "Trainable params: 203,530\n",
      "Non-trainable params: 0\n",
      "_________________________________________________________________\n"
     ]
    }
   ],
   "source": [
    "model.summary()"
   ]
  },
  {
   "cell_type": "markdown",
   "id": "3af3955f",
   "metadata": {},
   "source": [
    "### Model Complilation can be changed based on no. of categories"
   ]
  },
  {
   "cell_type": "code",
   "execution_count": 9,
   "id": "d938c1cd",
   "metadata": {},
   "outputs": [
    {
     "name": "stdout",
     "output_type": "stream",
     "text": [
      "Epoch 1/10\n",
      "422/422 [==============================] - 3s 5ms/step - loss: 0.3471 - accuracy: 0.9000 - val_loss: 0.1466 - val_accuracy: 0.9605\n",
      "Epoch 2/10\n",
      "422/422 [==============================] - 2s 4ms/step - loss: 0.1719 - accuracy: 0.9497 - val_loss: 0.1056 - val_accuracy: 0.9695\n",
      "Epoch 3/10\n",
      "422/422 [==============================] - 2s 5ms/step - loss: 0.1289 - accuracy: 0.9614 - val_loss: 0.0938 - val_accuracy: 0.9725\n",
      "Epoch 4/10\n",
      "422/422 [==============================] - 2s 4ms/step - loss: 0.1062 - accuracy: 0.9679 - val_loss: 0.0777 - val_accuracy: 0.9767\n",
      "Epoch 5/10\n",
      "422/422 [==============================] - 2s 4ms/step - loss: 0.0919 - accuracy: 0.9725 - val_loss: 0.0813 - val_accuracy: 0.9787\n",
      "Epoch 6/10\n",
      "422/422 [==============================] - 2s 4ms/step - loss: 0.0803 - accuracy: 0.9762 - val_loss: 0.0714 - val_accuracy: 0.9792\n",
      "Epoch 7/10\n",
      "422/422 [==============================] - 2s 4ms/step - loss: 0.0736 - accuracy: 0.9774 - val_loss: 0.0736 - val_accuracy: 0.9802\n",
      "Epoch 8/10\n",
      "422/422 [==============================] - 2s 4ms/step - loss: 0.0647 - accuracy: 0.9802 - val_loss: 0.0755 - val_accuracy: 0.9805\n",
      "Epoch 9/10\n",
      "422/422 [==============================] - 2s 4ms/step - loss: 0.0605 - accuracy: 0.9805 - val_loss: 0.0690 - val_accuracy: 0.9813\n",
      "Epoch 10/10\n",
      "422/422 [==============================] - 2s 5ms/step - loss: 0.0550 - accuracy: 0.9831 - val_loss: 0.0723 - val_accuracy: 0.9808\n"
     ]
    }
   ],
   "source": [
    "model.compile(optimizer='RMSprop',\n",
    "              loss='sparse_categorical_crossentropy',\n",
    "              metrics=['accuracy'])\n",
    "history=model.fit(X_train, y_train,validation_split=0.1 ,epochs=10,batch_size=128)"
   ]
  },
  {
   "cell_type": "markdown",
   "id": "593ab49c",
   "metadata": {},
   "source": [
    "### Train and Test Accuracy"
   ]
  },
  {
   "cell_type": "code",
   "execution_count": 10,
   "id": "0da1ccc1",
   "metadata": {},
   "outputs": [
    {
     "name": "stdout",
     "output_type": "stream",
     "text": [
      "1875/1875 [==============================] - 2s 1ms/step - loss: 0.0361 - accuracy: 0.9895\n",
      "313/313 [==============================] - 0s 1ms/step - loss: 0.0800 - accuracy: 0.9774\n",
      "Train Accuracy is  0.989466667175293\n",
      "Test Accuracy is  0.977400004863739\n"
     ]
    }
   ],
   "source": [
    "tf1=model.evaluate(X_train, y_train)\n",
    "tf2=model.evaluate(X_test, y_test)\n",
    "print(\"Train Accuracy is \",tf1[1])\n",
    "print(\"Test Accuracy is \",tf2[1])"
   ]
  },
  {
   "cell_type": "markdown",
   "id": "1dd4ada0",
   "metadata": {},
   "source": [
    "### Train and Test Loss"
   ]
  },
  {
   "cell_type": "code",
   "execution_count": 11,
   "id": "60f7d166",
   "metadata": {},
   "outputs": [
    {
     "name": "stdout",
     "output_type": "stream",
     "text": [
      "Train Loss is  0.03608488291501999\n",
      "Test Loss is  0.07999162375926971\n"
     ]
    }
   ],
   "source": [
    "print(\"Train Loss is \",tf1[0])\n",
    "print(\"Test Loss is \",tf2[0])"
   ]
  },
  {
   "cell_type": "code",
   "execution_count": 12,
   "id": "bb60d1d1",
   "metadata": {},
   "outputs": [
    {
     "name": "stdout",
     "output_type": "stream",
     "text": [
      "313/313 [==============================] - 0s 1ms/step\n"
     ]
    }
   ],
   "source": [
    "y_predicted = model.predict(X_test)\n",
    "y_predicted_labels = [np.argmax(i) for i in y_predicted]"
   ]
  },
  {
   "cell_type": "markdown",
   "id": "c159ff3c",
   "metadata": {},
   "source": [
    "### Confusion Matrix"
   ]
  },
  {
   "cell_type": "code",
   "execution_count": 13,
   "id": "943be8c1",
   "metadata": {},
   "outputs": [
    {
     "data": {
      "text/plain": [
       "Text(69.0, 0.5, 'Truth')"
      ]
     },
     "execution_count": 13,
     "metadata": {},
     "output_type": "execute_result"
    },
    {
     "data": {
      "image/png": "[encoded data removed]",
      "text/plain": [
       "<Figure size 720x576 with 2 Axes>"
      ]
     },
     "metadata": {
      "needs_background": "light"
     },
     "output_type": "display_data"
    }
   ],
   "source": [
    "import seaborn as sn\n",
    "cm = tf.math.confusion_matrix(labels=y_test,predictions=y_predicted_labels)\n",
    "plt.figure(figsize = (10,8))\n",
    "sn.heatmap(cm, annot=True, fmt='d')\n",
    "plt.xlabel('Predicted')\n",
    "plt.ylabel('Truth')"
   ]
  },
  {
   "cell_type": "markdown",
   "id": "f27ae52e",
   "metadata": {},
   "source": [
    "## F1 Score"
   ]
  },
  {
   "cell_type": "code",
   "execution_count": 14,
   "id": "692cb7ed",
   "metadata": {},
   "outputs": [
    {
     "data": {
      "text/plain": [
       "0.9773929890789746"
      ]
     },
     "execution_count": 14,
     "metadata": {},
     "output_type": "execute_result"
    }
   ],
   "source": [
    "from sklearn.metrics import f1_score\n",
    "f1_score(y_test,y_predicted_labels, average='weighted')\n"
   ]
  },
  {
   "cell_type": "code",
   "execution_count": 15,
   "id": "de0f177d",
   "metadata": {},
   "outputs": [
    {
     "data": {
      "image/png": "[encoded data removed]",
      "text/plain": [
       "<Figure size 432x288 with 1 Axes>"
      ]
     },
     "metadata": {
      "needs_background": "light"
     },
     "output_type": "display_data"
    }
   ],
   "source": [
    "plt.plot(history.history['accuracy'])\n",
    "plt.plot(history.history['val_accuracy'])\n",
    "plt.title('model accuracy')\n",
    "plt.ylabel('accuracy')\n",
    "plt.xlabel('epoch')\n",
    "plt.legend(['train', 'val'], loc='upper left')\n",
    "plt.show()"
   ]
  },
  {
   "cell_type": "code",
   "execution_count": 16,
   "id": "7ca8b159",
   "metadata": {},
   "outputs": [
    {
     "data": {
      "image/png": "[encoded data removed]",
      "text/plain": [
       "<Figure size 432x288 with 1 Axes>"
      ]
     },
     "metadata": {
      "needs_background": "light"
     },
     "output_type": "display_data"
    }
   ],
   "source": [
    "plt.plot(history.history['loss'])\n",
    "plt.plot(history.history['val_loss'])\n",
    "plt.title('model loss')\n",
    "plt.ylabel('loss')\n",
    "plt.xlabel('epoch')\n",
    "plt.legend(['train', 'val'], loc='upper left')\n",
    "plt.show()"
   ]
  }
 ],
 "metadata": {
  "kernelspec": {
   "display_name": "Python 3",
   "language": "python",
   "name": "python3"
  },
  "language_info": {
   "codemirror_mode": {
    "name": "ipython",
    "version": 3
   },
   "file_extension": ".py",
   "mimetype": "text/x-python",
   "name": "python",
   "nbconvert_exporter": "python",
   "pygments_lexer": "ipython3",
   "version": "3.8.8"
  }
 },
 "nbformat": 4,
 "nbformat_minor": 5
}
