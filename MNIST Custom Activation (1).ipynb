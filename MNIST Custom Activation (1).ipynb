{
 "cells": [
  {
   "attachments": {},
   "cell_type": "markdown",
   "id": "9eba74ac",
   "metadata": {},
   "source": [
    "# Import necessary libraries"
   ]
  },
  {
   "cell_type": "code",
   "execution_count": 1,
   "id": "6230a511",
   "metadata": {},
   "outputs": [],
   "source": [
    "import numpy as np # linear algebra\n",
    "import tensorflow as tf\n",
    "from tensorflow import keras\n",
    "import matplotlib.pyplot as plt\n",
    "%matplotlib inline\n",
    "\n",
    "from keras.models import Sequential\n",
    "from keras.layers import Dense , Activation, Dropout\n",
    "from keras.optimizers import Adam ,RMSprop\n",
    "from keras import  backend as K"
   ]
  },
  {
   "cell_type": "markdown",
   "id": "c9fb9aa0",
   "metadata": {},
   "source": [
    "### MNIST Dataset import"
   ]
  },
  {
   "cell_type": "code",
   "execution_count": 2,
   "id": "619ceaa9",
   "metadata": {},
   "outputs": [],
   "source": [
    "(X_train, y_train) , (X_test, y_test) = keras.datasets.mnist.load_data()"
   ]
  },
  {
   "cell_type": "code",
   "execution_count": 3,
   "id": "04109bc0",
   "metadata": {},
   "outputs": [],
   "source": [
    "X_train, X_test = X_train / 255.0, X_test / 255.0"
   ]
  },
  {
   "cell_type": "code",
   "execution_count": 4,
   "id": "8f6ea850",
   "metadata": {},
   "outputs": [
    {
     "data": {
      "text/plain": [
       "<matplotlib.image.AxesImage at 0x2da90814e20>"
      ]
     },
     "execution_count": 4,
     "metadata": {},
     "output_type": "execute_result"
    },
    {
     "data": {
      "image/png": "[encoded data removed]",
      "text/plain": [
       "<Figure size 288x288 with 1 Axes>"
      ]
     },
     "metadata": {
      "needs_background": "light"
     },
     "output_type": "display_data"
    }
   ],
   "source": [
    "plt.matshow(X_train[1])"
   ]
  },
  {
   "cell_type": "markdown",
   "id": "c012db8a",
   "metadata": {},
   "source": [
    "# Custom Activation Function\n",
    "\n",
    "The Activation Function can be modified based on two things:\n",
    "\n",
    "i) Its classification type\n",
    "ii) No. of Negative values present in dataset\n",
    "iii) Its differentiabilty around 0.\n",
    "\n",
    "And using these conditions I have created a modified activation function which works as a leaky ReLU first and then utilise that updated values in an ELU function.\n",
    "\n",
    "Thus the issue of negative value of ReLU is resolved by ELU and then it is wrapped upon Leaky ReLU which fix the “dying ReLU” problem by having a small negative slope (of 0.01,0.05 or so)."
   ]
  },
  {
   "cell_type": "code",
   "execution_count": 24,
   "id": "03168aec",
   "metadata": {},
   "outputs": [
    {
     "name": "stdout",
     "output_type": "stream",
     "text": [
      "10\n"
     ]
    }
   ],
   "source": [
    "num_labels = len(np.unique(y_train))\n",
    "print(num_labels)"
   ]
  },
  {
   "cell_type": "code",
   "execution_count": 25,
   "id": "65d30214",
   "metadata": {},
   "outputs": [],
   "source": [
    "def multi_af(x):\n",
    "    return K.maximum(0.05*x,x) # A modified version of RelU which performs good for negative as well as 0-1 values.\n",
    "# If classification is binary then bin_af function else multi_af function is called\n",
    "def bin_af(x):\n",
    "    return 1 / (1 + math.exp(-x))\n",
    "dropout=0.2"
   ]
  },
  {
   "cell_type": "markdown",
   "id": "3c309594",
   "metadata": {},
   "source": [
    "### We can also apply a condition that if number of values less than 0 are more than 50% , then do not go for ReLu, else you can perform ReLu to reduce computation time."
   ]
  },
  {
   "cell_type": "markdown",
   "id": "4d02331e",
   "metadata": {},
   "source": [
    "## Model Architecture"
   ]
  },
  {
   "cell_type": "code",
   "execution_count": 26,
   "id": "934746e1",
   "metadata": {},
   "outputs": [],
   "source": [
    "if num_labels>2:\n",
    "    model = tf.keras.models.Sequential([\n",
    "    tf.keras.layers.Flatten(input_shape=(28, 28)),\n",
    "    tf.keras.layers.Dense(256),\n",
    "    tf.keras.layers.Lambda(multi_af),\n",
    "    tf.keras.layers.Dropout(dropout, input_shape=(2,)),\n",
    "    tf.keras.layers.ELU(alpha=1.0),\n",
    "    tf.keras.layers.Dense(num_labels, activation='softmax')\n",
    "])\n",
    "else:\n",
    "     model = tf.keras.models.Sequential([\n",
    "     tf.keras.layers.Flatten(input_shape=(28, 28)),\n",
    "     tf.keras.layers.Dense(256),\n",
    "     tf.keras.layers.Lambda(multi_af),\n",
    "     tf.keras.layers.Dropout(dropout, input_shape=(2,)),\n",
    "     tf.keras.layers.ELU(alpha=1.0),\n",
    "     tf.keras.layers.Dense(num_labels, activation='sigmoid')\n",
    "])\n",
    "    \n"
   ]
  },
  {
   "cell_type": "code",
   "execution_count": 27,
   "id": "fba9c51b",
   "metadata": {},
   "outputs": [
    {
     "name": "stdout",
     "output_type": "stream",
     "text": [
      "Model: \"sequential_2\"\n",
      "_________________________________________________________________\n",
      " Layer (type)                Output Shape              Param #   \n",
      "=================================================================\n",
      " flatten_2 (Flatten)         (None, 784)               0         \n",
      "                                                                 \n",
      " dense_4 (Dense)             (None, 256)               200960    \n",
      "                                                                 \n",
      " lambda_2 (Lambda)           (None, 256)               0         \n",
      "                                                                 \n",
      " dropout_2 (Dropout)         (None, 256)               0         \n",
      "                                                                 \n",
      " elu_2 (ELU)                 (None, 256)               0         \n",
      "                                                                 \n",
      " dense_5 (Dense)             (None, 10)                2570      \n",
      "                                                                 \n",
      "=================================================================\n",
      "Total params: 203,530\n",
      "Trainable params: 203,530\n",
      "Non-trainable params: 0\n",
      "_________________________________________________________________\n"
     ]
    }
   ],
   "source": [
    "model.summary()"
   ]
  },
  {
   "cell_type": "markdown",
   "id": "019423e4",
   "metadata": {},
   "source": [
    "### Model Complilation can be changed based on no. of categories"
   ]
  },
  {
   "cell_type": "code",
   "execution_count": 28,
   "id": "c81a7b7c",
   "metadata": {},
   "outputs": [
    {
     "name": "stdout",
     "output_type": "stream",
     "text": [
      "Epoch 1/12\n",
      "844/844 [==============================] - 4s 4ms/step - loss: 0.2945 - accuracy: 0.9158 - val_loss: 0.1246 - val_accuracy: 0.9655\n",
      "Epoch 2/12\n",
      "844/844 [==============================] - 3s 4ms/step - loss: 0.1447 - accuracy: 0.9578 - val_loss: 0.0963 - val_accuracy: 0.9725\n",
      "Epoch 3/12\n",
      "844/844 [==============================] - 3s 4ms/step - loss: 0.1086 - accuracy: 0.9680 - val_loss: 0.0882 - val_accuracy: 0.9745\n",
      "Epoch 4/12\n",
      "844/844 [==============================] - 3s 4ms/step - loss: 0.0884 - accuracy: 0.9740 - val_loss: 0.0809 - val_accuracy: 0.9778\n",
      "Epoch 5/12\n",
      "844/844 [==============================] - 3s 4ms/step - loss: 0.0771 - accuracy: 0.9768 - val_loss: 0.0813 - val_accuracy: 0.9768\n",
      "Epoch 6/12\n",
      "844/844 [==============================] - 3s 4ms/step - loss: 0.0687 - accuracy: 0.9795 - val_loss: 0.0776 - val_accuracy: 0.9803\n",
      "Epoch 7/12\n",
      "844/844 [==============================] - 3s 4ms/step - loss: 0.0604 - accuracy: 0.9821 - val_loss: 0.0787 - val_accuracy: 0.9792\n",
      "Epoch 8/12\n",
      "844/844 [==============================] - 3s 4ms/step - loss: 0.0566 - accuracy: 0.9833 - val_loss: 0.0707 - val_accuracy: 0.9817\n",
      "Epoch 9/12\n",
      "844/844 [==============================] - 3s 4ms/step - loss: 0.0516 - accuracy: 0.9845 - val_loss: 0.0742 - val_accuracy: 0.9800\n",
      "Epoch 10/12\n",
      "844/844 [==============================] - 3s 4ms/step - loss: 0.0457 - accuracy: 0.9859 - val_loss: 0.0803 - val_accuracy: 0.9798\n",
      "Epoch 11/12\n",
      "844/844 [==============================] - 3s 4ms/step - loss: 0.0437 - accuracy: 0.9870 - val_loss: 0.0768 - val_accuracy: 0.9817\n",
      "Epoch 12/12\n",
      "844/844 [==============================] - 4s 4ms/step - loss: 0.0394 - accuracy: 0.9883 - val_loss: 0.0747 - val_accuracy: 0.9815\n"
     ]
    }
   ],
   "source": [
    "model.compile(optimizer='RMSprop',\n",
    "              loss='sparse_categorical_crossentropy',\n",
    "              metrics=['accuracy'])\n",
    "history=model.fit(X_train, y_train,validation_split=0.1 ,epochs=12,batch_size=64)"
   ]
  },
  {
   "cell_type": "markdown",
   "id": "cf24fcd4",
   "metadata": {},
   "source": [
    "### Train and Test Accuracy"
   ]
  },
  {
   "cell_type": "code",
   "execution_count": 29,
   "id": "07be12b2",
   "metadata": {},
   "outputs": [
    {
     "name": "stdout",
     "output_type": "stream",
     "text": [
      "1875/1875 [==============================] - 3s 1ms/step - loss: 0.0261 - accuracy: 0.9927\n",
      "313/313 [==============================] - 0s 1ms/step - loss: 0.0765 - accuracy: 0.9803\n",
      "Train Accuracy is  0.9926833510398865\n",
      "Test Accuracy is  0.9803000092506409\n"
     ]
    }
   ],
   "source": [
    "tf1=model.evaluate(X_train, y_train)\n",
    "tf2=model.evaluate(X_test, y_test)\n",
    "print(\"Train Accuracy is \",tf1[1])\n",
    "print(\"Test Accuracy is \",tf2[1])"
   ]
  },
  {
   "cell_type": "markdown",
   "id": "56ff7eac",
   "metadata": {},
   "source": [
    "### Train and Test Loss"
   ]
  },
  {
   "cell_type": "code",
   "execution_count": 30,
   "id": "085bf4b5",
   "metadata": {},
   "outputs": [
    {
     "name": "stdout",
     "output_type": "stream",
     "text": [
      "Train Loss is  0.026113102212548256\n",
      "Test Loss is  0.07651510089635849\n"
     ]
    }
   ],
   "source": [
    "print(\"Train Loss is \",tf1[0])\n",
    "print(\"Test Loss is \",tf2[0])"
   ]
  },
  {
   "cell_type": "code",
   "execution_count": 31,
   "id": "13d798ea",
   "metadata": {},
   "outputs": [
    {
     "name": "stdout",
     "output_type": "stream",
     "text": [
      "313/313 [==============================] - 0s 939us/step\n"
     ]
    }
   ],
   "source": [
    "y_predicted = model.predict(X_test)\n",
    "y_predicted_labels = [np.argmax(i) for i in y_predicted]"
   ]
  },
  {
   "cell_type": "markdown",
   "id": "b683d32c",
   "metadata": {},
   "source": [
    "### Confusion Matrix"
   ]
  },
  {
   "cell_type": "code",
   "execution_count": 32,
   "id": "8977b002",
   "metadata": {},
   "outputs": [
    {
     "data": {
      "text/plain": [
       "Text(69.0, 0.5, 'Truth')"
      ]
     },
     "execution_count": 32,
     "metadata": {},
     "output_type": "execute_result"
    },
    {
     "data": {
      "image/png": "[encoded data removed]",
      "text/plain": [
       "<Figure size 720x576 with 2 Axes>"
      ]
     },
     "metadata": {
      "needs_background": "light"
     },
     "output_type": "display_data"
    }
   ],
   "source": [
    "import seaborn as sn\n",
    "cm = tf.math.confusion_matrix(labels=y_test,predictions=y_predicted_labels)\n",
    "plt.figure(figsize = (10,8))\n",
    "sn.heatmap(cm, annot=True, fmt='d')\n",
    "plt.xlabel('Predicted')\n",
    "plt.ylabel('Truth')"
   ]
  },
  {
   "cell_type": "markdown",
   "id": "e3174f05",
   "metadata": {},
   "source": [
    "## F1 Score"
   ]
  },
  {
   "cell_type": "code",
   "execution_count": 33,
   "id": "eea9769d",
   "metadata": {},
   "outputs": [
    {
     "data": {
      "text/plain": [
       "0.9803066968611951"
      ]
     },
     "execution_count": 33,
     "metadata": {},
     "output_type": "execute_result"
    }
   ],
   "source": [
    "from sklearn.metrics import f1_score\n",
    "f1_score(y_test,y_predicted_labels, average='weighted')\n"
   ]
  },
  {
   "cell_type": "code",
   "execution_count": 34,
   "id": "f0fd07a1",
   "metadata": {},
   "outputs": [
    {
     "data": {
      "image/png": "[encoded data removed]",
      "text/plain": [
       "<Figure size 432x288 with 1 Axes>"
      ]
     },
     "metadata": {
      "needs_background": "light"
     },
     "output_type": "display_data"
    }
   ],
   "source": [
    "plt.plot(history.history['accuracy'])\n",
    "plt.plot(history.history['val_accuracy'])\n",
    "plt.title('model accuracy')\n",
    "plt.ylabel('accuracy')\n",
    "plt.xlabel('epoch')\n",
    "plt.legend(['train', 'val'], loc='upper left')\n",
    "plt.show()"
   ]
  },
  {
   "cell_type": "code",
   "execution_count": 35,
   "id": "01618204",
   "metadata": {},
   "outputs": [
    {
     "data": {
      "image/png": "[encoded data removed]",
      "text/plain": [
       "<Figure size 432x288 with 1 Axes>"
      ]
     },
     "metadata": {
      "needs_background": "light"
     },
     "output_type": "display_data"
    }
   ],
   "source": [
    "plt.plot(history.history['loss'])\n",
    "plt.plot(history.history['val_loss'])\n",
    "plt.title('model loss')\n",
    "plt.ylabel('loss')\n",
    "plt.xlabel('epoch')\n",
    "plt.legend(['train', 'val'], loc='upper left')\n",
    "plt.show()"
   ]
  },
  {
   "cell_type": "code",
   "execution_count": null,
   "id": "a63614df",
   "metadata": {},
   "outputs": [],
   "source": []
  }
 ],
 "metadata": {
  "kernelspec": {
   "display_name": "Python 3",
   "language": "python",
   "name": "python3"
  },
  "language_info": {
   "codemirror_mode": {
    "name": "ipython",
    "version": 3
   },
   "file_extension": ".py",
   "mimetype": "text/x-python",
   "name": "python",
   "nbconvert_exporter": "python",
   "pygments_lexer": "ipython3",
   "version": "3.8.8"
  }
 },
 "nbformat": 4,
 "nbformat_minor": 5
}
